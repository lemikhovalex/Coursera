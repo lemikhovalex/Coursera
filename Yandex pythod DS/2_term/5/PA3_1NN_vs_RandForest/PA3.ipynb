{
 "cells": [
  {
   "cell_type": "code",
   "execution_count": 45,
   "metadata": {},
   "outputs": [],
   "source": [
    "from sklearn import datasets, naive_bayes, model_selection\n",
    "import numpy as np\n",
    "from pybrain.utilities import percentError"
   ]
  },
  {
   "cell_type": "code",
   "execution_count": 46,
   "metadata": {},
   "outputs": [],
   "source": [
    "def write_answer(answ, num_answ):\n",
    "    to_open = \"answer\" + str(num_answ) + '.txt'\n",
    "    with open(to_open, \"w\") as fout:\n",
    "        fout.write(str(answ))"
   ]
  },
  {
   "cell_type": "code",
   "execution_count": 66,
   "metadata": {},
   "outputs": [],
   "source": [
    "digits = datasets.load_digits()\n",
    "X = digits.data\n",
    "y = digits.target\n",
    "X_train, X_test, y_train, y_test  = model_selection.train_test_split(X,\n",
    "                                                                     y,\n",
    "                                                                     shuffle=False)"
   ]
  },
  {
   "cell_type": "code",
   "execution_count": 87,
   "metadata": {},
   "outputs": [
    {
     "name": "stdout",
     "output_type": "stream",
     "text": [
      "\n"
     ]
    }
   ],
   "source": [
    "def OneNN(X_train, y_train, X_test):\n",
    "    out = np.empty([X_test.shape[0], ])\n",
    "    for curr_obj in range(X_test.shape[0]):\n",
    "        min_dist = np.inf\n",
    "        min_class = 11\n",
    "        for n in range(X_train.shape[0]):\n",
    "            curr_dist = np.linalg.norm(X_test[curr_obj] - X_train[n])\n",
    "            if curr_dist < min_dist:\n",
    "                min_dist = curr_dist\n",
    "                min_class = int(y_train[n])\n",
    "            #print min_dist\n",
    "        out[curr_obj] = min_class\n",
    "    return out "
   ]
  },
  {
   "cell_type": "code",
   "execution_count": 88,
   "metadata": {},
   "outputs": [],
   "source": [
    "one_nn_pred = OneNN(X_train, y_train, X_test)"
   ]
  },
  {
   "cell_type": "code",
   "execution_count": 89,
   "metadata": {},
   "outputs": [
    {
     "name": "stdout",
     "output_type": "stream",
     "text": [
      "0.0377777777778\n"
     ]
    }
   ],
   "source": [
    "answ1 =  percentError(y_test, one_nn_pred)/100.0\n",
    "write_answer(answ1, 1)\n",
    "print answ1"
   ]
  },
  {
   "cell_type": "code",
   "execution_count": 71,
   "metadata": {},
   "outputs": [],
   "source": [
    "from sklearn.ensemble import RandomForestClassifier"
   ]
  },
  {
   "cell_type": "code",
   "execution_count": 73,
   "metadata": {},
   "outputs": [
    {
     "name": "stdout",
     "output_type": "stream",
     "text": [
      "0.06\n"
     ]
    }
   ],
   "source": [
    "rfc =  RandomForestClassifier(n_estimators = 1000)\n",
    "rfc.fit(X_train, y_train)  \n",
    "forest_pred = rfc.predict(X_test)\n",
    "\n",
    "answ2 =  percentError(y_test, forest_pred)/100\n",
    "write_answer(answ2, 2)\n",
    "print answ2"
   ]
  }
 ],
 "metadata": {
  "kernelspec": {
   "display_name": "Python 2",
   "language": "python",
   "name": "python2"
  },
  "language_info": {
   "codemirror_mode": {
    "name": "ipython",
    "version": 2
   },
   "file_extension": ".py",
   "mimetype": "text/x-python",
   "name": "python",
   "nbconvert_exporter": "python",
   "pygments_lexer": "ipython2",
   "version": "2.7.15"
  }
 },
 "nbformat": 4,
 "nbformat_minor": 2
}
