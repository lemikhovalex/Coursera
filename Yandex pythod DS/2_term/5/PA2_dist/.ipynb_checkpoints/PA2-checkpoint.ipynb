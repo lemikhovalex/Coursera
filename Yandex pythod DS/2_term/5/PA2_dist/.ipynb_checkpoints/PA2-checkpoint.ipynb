{
 "cells": [
  {
   "cell_type": "code",
   "execution_count": 6,
   "metadata": {},
   "outputs": [],
   "source": [
    "from sklearn import datasets, naive_bayes, model_selection"
   ]
  },
  {
   "cell_type": "code",
   "execution_count": 7,
   "metadata": {},
   "outputs": [],
   "source": [
    "digits = datasets.load_digits()\n",
    "breast_cancer = datasets.load_breast_cancer()"
   ]
  },
  {
   "cell_type": "code",
   "execution_count": 8,
   "metadata": {},
   "outputs": [],
   "source": [
    "X_d = digits.data\n",
    "y_d = digits.target\n",
    "\n",
    "X_c = breast_cancer.data\n",
    "y_c = breast_cancer.target"
   ]
  },
  {
   "cell_type": "code",
   "execution_count": 17,
   "metadata": {},
   "outputs": [
    {
     "name": "stdout",
     "output_type": "stream",
     "text": [
      "[[1.799e+01 1.038e+01 1.228e+02 ... 2.654e-01 4.601e-01 1.189e-01]\n",
      " [2.057e+01 1.777e+01 1.329e+02 ... 1.860e-01 2.750e-01 8.902e-02]\n",
      " [1.969e+01 2.125e+01 1.300e+02 ... 2.430e-01 3.613e-01 8.758e-02]\n",
      " ...\n",
      " [1.660e+01 2.808e+01 1.083e+02 ... 1.418e-01 2.218e-01 7.820e-02]\n",
      " [2.060e+01 2.933e+01 1.401e+02 ... 2.650e-01 4.087e-01 1.240e-01]\n",
      " [7.760e+00 2.454e+01 4.792e+01 ... 0.000e+00 2.871e-01 7.039e-02]]\n"
     ]
    }
   ],
   "source": [
    "print(X_c)"
   ]
  },
  {
   "cell_type": "code",
   "execution_count": 13,
   "metadata": {},
   "outputs": [],
   "source": [
    "def write_answer(answ, num_answ):\n",
    "    to_open = \"answer\" + str(num_answ) + '.txt'\n",
    "    with open(to_open, \"w\") as fout:\n",
    "        fout.write(str(answ))"
   ]
  },
  {
   "cell_type": "code",
   "execution_count": 14,
   "metadata": {},
   "outputs": [
    {
     "name": "stdout",
     "output_type": "stream",
     "text": [
      "('ber', 0.6274204028589994)\n",
      "('mult', 0.8945790401930752)\n",
      "('gaus', 0.9367492806089297)\n"
     ]
    }
   ],
   "source": [
    "#1\n",
    "ber =  naive_bayes.BernoulliNB()\n",
    "mult = naive_bayes.MultinomialNB()\n",
    "gaus = naive_bayes.GaussianNB()\n",
    "ber_score = model_selection.cross_val_score(ber, X_c, y_c).mean()\n",
    "mult_score = model_selection.cross_val_score(mult, X_c, y_c).mean()\n",
    "gaus_score = model_selection.cross_val_score(gaus, X_c, y_c).mean()\n",
    "print ('ber', ber_score)\n",
    "print ('mult', mult_score)\n",
    "print ('gaus', gaus_score)\n",
    "write_answer(max(ber_score, mult_score, gaus_score), 1)"
   ]
  },
  {
   "cell_type": "code",
   "execution_count": 15,
   "metadata": {},
   "outputs": [
    {
     "name": "stdout",
     "output_type": "stream",
     "text": [
      "('ber', 0.8258236507780582)\n",
      "('mult', 0.8708771489735053)\n",
      "('gaus', 0.8186003803550138)\n"
     ]
    }
   ],
   "source": [
    "#2\n",
    "ber =  naive_bayes.BernoulliNB()\n",
    "mult = naive_bayes.MultinomialNB()\n",
    "gaus = naive_bayes.GaussianNB()\n",
    "ber_score = model_selection.cross_val_score(ber, X_d, y_d).mean()\n",
    "mult_score = model_selection.cross_val_score(mult, X_d, y_d).mean()\n",
    "gaus_score = model_selection.cross_val_score(gaus, X_d, y_d).mean()\n",
    "print ('ber', ber_score)\n",
    "print ('mult', mult_score)\n",
    "print ('gaus', gaus_score)\n",
    "write_answer(max(ber_score, mult_score, gaus_score), 2)"
   ]
  },
  {
   "cell_type": "code",
   "execution_count": 18,
   "metadata": {},
   "outputs": [],
   "source": [
    "#3\n",
    "write_answer('4' , 3)"
   ]
  },
  {
   "cell_type": "code",
   "execution_count": 19,
   "metadata": {},
   "outputs": [],
   "source": [
    "#4"
   ]
  }
 ],
 "metadata": {
  "kernelspec": {
   "display_name": "Python 2",
   "language": "python",
   "name": "python2"
  },
  "language_info": {
   "codemirror_mode": {
    "name": "ipython",
    "version": 2
   },
   "file_extension": ".py",
   "mimetype": "text/x-python",
   "name": "python",
   "nbconvert_exporter": "python",
   "pygments_lexer": "ipython2",
   "version": "2.7.15"
  }
 },
 "nbformat": 4,
 "nbformat_minor": 2
}
