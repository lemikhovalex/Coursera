{
 "cells": [
  {
   "cell_type": "code",
   "execution_count": 1,
   "metadata": {},
   "outputs": [],
   "source": [
    "import numpy as np\n",
    "from statsmodels.stats.proportion import proportion_confint\n",
    "from sklearn import model_selection as cross_validation\n",
    "from sklearn import datasets, linear_model, metrics\n",
    "import pandas as pd\n",
    "import numpy as np"
   ]
  },
  {
   "cell_type": "code",
   "execution_count": 2,
   "metadata": {},
   "outputs": [],
   "source": [
    "n = 50\n",
    "s = 1\n",
    "p = float(s)/n"
   ]
  },
  {
   "cell_type": "code",
   "execution_count": 3,
   "metadata": {},
   "outputs": [
    {
     "name": "stdout",
     "output_type": "stream",
     "text": [
      "0.02\n"
     ]
    }
   ],
   "source": [
    "print p"
   ]
  },
  {
   "cell_type": "code",
   "execution_count": 4,
   "metadata": {},
   "outputs": [
    {
     "name": "stdout",
     "output_type": "stream",
     "text": [
      "-0.01959797974644666\n"
     ]
    }
   ],
   "source": [
    "print p - 2 * np.sqrt(p*(1-p)/n)"
   ]
  },
  {
   "cell_type": "code",
   "execution_count": 5,
   "metadata": {},
   "outputs": [],
   "source": [
    "data = [1] * s + [0] * (n-s)"
   ]
  },
  {
   "cell_type": "code",
   "execution_count": 6,
   "metadata": {},
   "outputs": [
    {
     "name": "stdout",
     "output_type": "stream",
     "text": [
      "[1, 0, 0, 0, 0, 0, 0, 0, 0, 0, 0, 0, 0, 0, 0, 0, 0, 0, 0, 0, 0, 0, 0, 0, 0, 0, 0, 0, 0, 0, 0, 0, 0, 0, 0, 0, 0, 0, 0, 0, 0, 0, 0, 0, 0, 0, 0, 0, 0, 0]\n"
     ]
    }
   ],
   "source": [
    "print data"
   ]
  },
  {
   "cell_type": "code",
   "execution_count": 7,
   "metadata": {},
   "outputs": [
    {
     "name": "stdout",
     "output_type": "stream",
     "text": [
      "(0.003539259271646236, 0.10495443589637815)\n"
     ]
    }
   ],
   "source": [
    "conf_interval_banner_a = proportion_confint(1, \n",
    "                                            n,\n",
    "                                            method = 'wilson')\n",
    "print conf_interval_banner_a"
   ]
  },
  {
   "cell_type": "code",
   "execution_count": 8,
   "metadata": {},
   "outputs": [
    {
     "name": "stdout",
     "output_type": "stream",
     "text": [
      "(-0.020191504689784177, 0.06019150468978418)\n"
     ]
    }
   ],
   "source": [
    "from statsmodels.stats.weightstats import _zconfint_generic, _tconfint_generic\n",
    "import statistics\n",
    "print _tconfint_generic(p,\n",
    "                        statistics.stdev(data) / np.sqrt(len(data)),\n",
    "                        len(data) - 1,\n",
    "                        0.05,\n",
    "                        'two-sided')"
   ]
  },
  {
   "cell_type": "code",
   "execution_count": 9,
   "metadata": {},
   "outputs": [],
   "source": [
    "def my_proportion_confint(count, nobs, alpha=0.05, method='normal'):\n",
    "    q_ = count * 1. / nobs\n",
    "    alpha_2 = 0.5 * alpha\n",
    "    std_ = np.sqrt(q_ * (1 - q_) / nobs)\n",
    "    dist = sts.norm.isf(alpha / 2.) * std_\n",
    "    ci_low = q_ - dist\n",
    "    ci_upp = q_ + dist\n",
    "    return ci_low, ci_upp"
   ]
  },
  {
   "cell_type": "code",
   "execution_count": null,
   "metadata": {},
   "outputs": [],
   "source": []
  },
  {
   "cell_type": "code",
   "execution_count": 10,
   "metadata": {},
   "outputs": [],
   "source": [
    "from scipy import stats as sts"
   ]
  },
  {
   "cell_type": "code",
   "execution_count": 11,
   "metadata": {},
   "outputs": [
    {
     "data": {
      "text/plain": [
       "(-0.018805307081790987, 0.05880530708179099)"
      ]
     },
     "execution_count": 11,
     "metadata": {},
     "output_type": "execute_result"
    }
   ],
   "source": [
    "my_proportion_confint(1, 50)"
   ]
  },
  {
   "cell_type": "code",
   "execution_count": 12,
   "metadata": {},
   "outputs": [
    {
     "name": "stdout",
     "output_type": "stream",
     "text": [
      "740 0.010086959261477627\n",
      "741 0.010080150648308\n"
     ]
    }
   ],
   "source": [
    "count = 1\n",
    "nobs = 50\n",
    "q_ = count * 1. / nobs\n",
    "alpha=0.05\n",
    "alpha_2 = 0.5 * alpha\n",
    "for nobs in range(740, 742):\n",
    "    std_ = np.sqrt(q_ * (1 - q_) / nobs)\n",
    "    dist = sts.norm.isf(alpha / 2.) * std_\n",
    "    print nobs , dist"
   ]
  },
  {
   "cell_type": "code",
   "execution_count": 13,
   "metadata": {},
   "outputs": [
    {
     "name": "stdout",
     "output_type": "stream",
     "text": [
      "10100 0.009751185280447551\n",
      "10101 0.00975070258434645\n"
     ]
    }
   ],
   "source": [
    "count = 1\n",
    "nobs = 50\n",
    "q_ = 0.5\n",
    "alpha=0.05\n",
    "alpha_2 = 0.5 * alpha\n",
    "for nobs in range(10100, 10102):\n",
    "    std_ = np.sqrt(q_ * (1 - q_) / nobs)\n",
    "    dist = sts.norm.isf(alpha / 2.) * std_\n",
    "    print nobs , dist"
   ]
  },
  {
   "cell_type": "code",
   "execution_count": null,
   "metadata": {},
   "outputs": [],
   "source": []
  },
  {
   "cell_type": "markdown",
   "metadata": {},
   "source": [
    "1:\n",
    "    \n",
    "2:-0.0188\n",
    "    \n",
    "3:0.0035\n",
    "    \n",
    "4:Wilson\n",
    "    \n",
    "5:753\n",
    "    \n",
    "6:9604\n",
    "    "
   ]
  },
  {
   "cell_type": "code",
   "execution_count": null,
   "metadata": {},
   "outputs": [],
   "source": [
    "alpha = 0.05\n",
    "nobs_asp = 11037.0\n",
    "asp_dead = 104.0\n",
    "nobs_plaz = 11034.0\n",
    "plaz_dead = 189.0"
   ]
  },
  {
   "cell_type": "code",
   "execution_count": null,
   "metadata": {},
   "outputs": [],
   "source": [
    "prob_up = plaz_dead /nobs_plaz - asp_dead/nobs_asp\n",
    "print prob_up"
   ]
  },
  {
   "cell_type": "code",
   "execution_count": null,
   "metadata": {},
   "outputs": [],
   "source": [
    "q_ = prob_up\n",
    "nobs = nobs_plaz + nobs_asp\n",
    "std_ = np.sqrt(q_ * (1 - q_) / nobs)\n",
    "dist = sts.norm.isf(alpha / 2.) * std_\n",
    "print q_ + dist\n",
    "print q_\n",
    "print 189/11034.0"
   ]
  },
  {
   "cell_type": "code",
   "execution_count": null,
   "metadata": {},
   "outputs": [],
   "source": [
    "import scipy\n",
    "def proportions_confint_diff_ind(sample1, sample2, alpha = 0.05):    \n",
    "    z = scipy.stats.norm.ppf(1 - alpha / 2.)   \n",
    "    p1 = float(sum(sample1)) / len(sample1)\n",
    "    p2 = float(sum(sample2)) / len(sample2)\n",
    "    \n",
    "    left_boundary = (p1 - p2) - z * np.sqrt(p1 * (1 - p1)/ len(sample1) + p2 * (1 - p2)/ len(sample2))\n",
    "    right_boundary = (p1 - p2) + z * np.sqrt(p1 * (1 - p1)/ len(sample1) + p2 * (1 - p2)/ len(sample2))\n",
    "    \n",
    "    return (left_boundary, right_boundary)\n",
    "\n",
    "asp = int(asp_dead) * [1] + int(nobs_asp - asp_dead) * [0]\n",
    "plaz = int(plaz_dead) * [1] + int(nobs_plaz - plaz_dead) * [0]\n",
    "print \"confidence interval: [%f, %f]\" % proportions_confint_diff_ind(plaz, asp)"
   ]
  },
  {
   "cell_type": "code",
   "execution_count": null,
   "metadata": {},
   "outputs": [],
   "source": [
    "print (plaz_dead / (plaz_dead - nobs_plaz)) / (asp_dead / (asp_dead - nobs_asp))"
   ]
  },
  {
   "cell_type": "markdown",
   "metadata": {},
   "source": [
    "1:2.9677\n",
    "\n",
    "2:st\n",
    "\n",
    "3: xi, fish\n",
    "\n",
    "4: f, g\n",
    "\n",
    "5:0.0077\n",
    "\n",
    "6:check:0.0107\n",
    "\n",
    "    wrong:0.0112, 0.0047\n",
    "7:1.8321\n",
    "\n"
   ]
  },
  {
   "cell_type": "code",
   "execution_count": null,
   "metadata": {},
   "outputs": [],
   "source": [
    "q_ = prob_up\n",
    "nobs = nobs_plaz + nobs_asp\n",
    "std_ = np.sqrt(q_ * (1 - q_) / nobs)\n",
    "dist = sts.norm.isf(alpha / 2.) * std_\n",
    "print q_ + dist\n",
    "print q_\n",
    "print 189/11034.0"
   ]
  },
  {
   "cell_type": "code",
   "execution_count": null,
   "metadata": {},
   "outputs": [],
   "source": [
    "import numpy as np\n",
    "import pandas as pd\n",
    "%pylab inline\n",
    "asp = int(asp_dead) * [1] + int(nobs_asp - asp_dead) * [0]\n",
    "plaz = int(plaz_dead) * [1] + int(nobs_plaz - plaz_dead) * [0] + [float(nan)] * 3\n",
    "Patients = {'Asp': asp,\n",
    "            'Plaz': plaz\n",
    "           }\n",
    "data = pd.DataFrame(Patients,columns= ['Asp', 'Plaz'])"
   ]
  },
  {
   "cell_type": "code",
   "execution_count": null,
   "metadata": {},
   "outputs": [],
   "source": [
    "def get_bootstrap_samples(data, n_samples):\n",
    "    indices = np.random.randint(0, len(data), (n_samples, len(data)))\n",
    "    samples = data[indices]\n",
    "    return samples"
   ]
  },
  {
   "cell_type": "code",
   "execution_count": null,
   "metadata": {},
   "outputs": [],
   "source": [
    "def stat_intervals(stat, alpha):\n",
    "    boundaries = np.percentile(stat, [100 * alpha / 2., 100 * (1 - alpha / 2.)])\n",
    "    return boundaries"
   ]
  },
  {
   "cell_type": "code",
   "execution_count": null,
   "metadata": {},
   "outputs": [],
   "source": [
    "ilec_time = data[data.Asp == '1'].Asp.values\n",
    "clec_time = data[data.Plaz == '1'].Plaz.values"
   ]
  }
 ],
 "metadata": {
  "kernelspec": {
   "display_name": "Python 2",
   "language": "python",
   "name": "python2"
  },
  "language_info": {
   "codemirror_mode": {
    "name": "ipython",
    "version": 2
   },
   "file_extension": ".py",
   "mimetype": "text/x-python",
   "name": "python",
   "nbconvert_exporter": "python",
   "pygments_lexer": "ipython2",
   "version": "2.7.16"
  }
 },
 "nbformat": 4,
 "nbformat_minor": 2
}
