{
 "cells": [
  {
   "cell_type": "code",
   "execution_count": 72,
   "metadata": {},
   "outputs": [],
   "source": [
    "import re\n",
    "from sets import Set\n",
    "import numpy as np\n",
    "from scipy.spatial import distance\n",
    "e = dict()\n",
    "str = 'init'\n",
    "allworlds= Set([''])\n",
    "e = dict()"
   ]
  },
  {
   "cell_type": "code",
   "execution_count": 87,
   "metadata": {},
   "outputs": [],
   "source": [
    "file_obj = open('sentances.txt', 'r')\n",
    "n=0\n",
    "for line in file_obj:\n",
    "    n+=1\n",
    "    str = line.strip()\n",
    "    str=str.lower()\n",
    "    tokens=re.split('[^a-z]', str)\n",
    "    for i in range( len(tokens) ):\n",
    "        allworlds.add(tokens[i])\n",
    "    #print tokens \n",
    "    #print \"\\n\"\n",
    "allworlds.remove('')\n",
    "d=len(allworlds)"
   ]
  },
  {
   "cell_type": "code",
   "execution_count": 93,
   "metadata": {},
   "outputs": [],
   "source": [
    "i=0\n",
    "for world in allworlds:\n",
    "    e[world] = i\n",
    "    i+=1\n",
    "A=np.zeros((n, d))\n",
    "file_obj = open('sentances.txt', 'r')\n",
    "i=0\n",
    "for line in file_obj:\n",
    "    str = line.strip()\n",
    "    str=str.lower()\n",
    "    tokens=re.split('[^a-z]', str)\n",
    "    for j in range( len(tokens) ):\n",
    "        if tokens[j]!='':\n",
    "            A[i][ e[ tokens[j] ] ]+=1\n",
    "    i+=1     "
   ]
  },
  {
   "cell_type": "code",
   "execution_count": 105,
   "metadata": {},
   "outputs": [
    {
     "name": "stdout",
     "output_type": "stream",
     "text": [
      "[0.9527544408738466, 0.8644738145642124, 0.8951715163278082, 0.7770887149698589, 0.9402385695332803, 0.7327387580875756, 0.9258750683338899, 0.8842724875284311, 0.9055088817476932, 0.8328165362273942, 0.8804771390665607, 0.8396432548525454, 0.8703592552895671, 0.8740118423302576, 0.9442721787424647, 0.8406361854220809, 0.956644501523794, 0.9442721787424647, 0.8885443574849294, 0.8427572744917122, 0.8250364469440588]\n",
      "6 \n",
      "\n",
      "4 \n",
      "\n"
     ]
    }
   ],
   "source": [
    "cosdist=[]\n",
    "i=1\n",
    "while i<=(n-1):\n",
    "    cosdist.append( distance.cosine(A[0, :], A[i, :] ) )\n",
    "    i+=1\n",
    "print cosdist\n",
    "num1=0\n",
    "num2=0\n",
    "for i in range(n-1):\n",
    "    if cosdist[i]<cosdist[num1]:\n",
    "        num1=i\n",
    "for i in range(n-1):\n",
    "    if (cosdist[i]<cosdist[num2])&(num1!=i):\n",
    "        num2=i\n",
    "print num1+1, '\\n'\n",
    "print num2+1, '\\n'\n"
   ]
  }
 ],
 "metadata": {
  "kernelspec": {
   "display_name": "Python 3",
   "language": "python",
   "name": "python3"
  },
  "language_info": {
   "codemirror_mode": {
    "name": "ipython",
    "version": 3
   },
   "file_extension": ".py",
   "mimetype": "text/x-python",
   "name": "python",
   "nbconvert_exporter": "python",
   "pygments_lexer": "ipython3",
   "version": "3.6.8"
  }
 },
 "nbformat": 4,
 "nbformat_minor": 2
}
