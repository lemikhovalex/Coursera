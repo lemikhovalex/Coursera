{
 "cells": [
  {
   "cell_type": "code",
   "execution_count": 1,
   "metadata": {},
   "outputs": [],
   "source": [
    "import math\n",
    "import scipy\n",
    "from scipy import optimize\n",
    "import numpy as np\n",
    "from scipy import interpolate\n",
    "from matplotlib import pylab as plt\n",
    "def f(x):\n",
    "    return math.sin(x/5.0)*math.exp(x/10.0)+5 * math.exp(-x / 2.0)\n",
    "def h(x):\n",
    "    return int(f(x)) "
   ]
  },
  {
   "cell_type": "code",
   "execution_count": 2,
   "metadata": {},
   "outputs": [
    {
     "name": "stdout",
     "output_type": "stream",
     "text": [
      "1.75\n",
      "6\n"
     ]
    }
   ],
   "source": [
    "res1 = scipy.optimize.minimize(f, \n",
    "                        (2), \n",
    "                        args=(), \n",
    "                        method='BFGS', \n",
    "                        jac=None, \n",
    "                        hess=None, \n",
    "                        hessp=None, \n",
    "                        bounds= None, \n",
    "                        constraints=(), \n",
    "                        tol=None, \n",
    "                        callback=None,\n",
    "                        options=None)\n",
    "print  round( res1.fun, 2)\n",
    "print res1.nit"
   ]
  },
  {
   "cell_type": "code",
   "execution_count": 3,
   "metadata": {},
   "outputs": [
    {
     "name": "stdout",
     "output_type": "stream",
     "text": [
      "-11.9\n",
      "6\n"
     ]
    }
   ],
   "source": [
    "res2 = scipy.optimize.minimize(f, \n",
    "                        (30), \n",
    "                        args=(), \n",
    "                        method='BFGS', \n",
    "                        jac=None, \n",
    "                        hess=None, \n",
    "                        hessp=None, \n",
    "                        bounds= None, \n",
    "                        constraints=(), \n",
    "                        tol=None, \n",
    "                        callback=None,\n",
    "                        options=None)\n",
    "print  round( res2.fun, 2)\n",
    "print res2.nit"
   ]
  },
  {
   "cell_type": "code",
   "execution_count": 4,
   "metadata": {},
   "outputs": [
    {
     "name": "stdout",
     "output_type": "stream",
     "text": [
      "-11.9\n",
      "6\n"
     ]
    }
   ],
   "source": [
    "res3=scipy.optimize.differential_evolution(f, \n",
    "                                      [ [0,30] ], \n",
    "                                      args=(), \n",
    "                                      strategy='best1bin',\n",
    "                                      maxiter=1000, \n",
    "                                      popsize=15,\n",
    "                                      tol=0.01, \n",
    "                                      mutation=(0.5, 1),\n",
    "                                      recombination=0.7,\n",
    "                                      seed=None, \n",
    "                                      callback=None, \n",
    "                                      disp=False, \n",
    "                                      polish=True, \n",
    "                                      init='latinhypercube', \n",
    "                                      atol=0)\n",
    "print  round( res3.fun, 2)\n",
    "print res3.nit"
   ]
  },
  {
   "cell_type": "code",
   "execution_count": 5,
   "metadata": {},
   "outputs": [
    {
     "name": "stdout",
     "output_type": "stream",
     "text": [
      "[25.88019291]\n",
      "-11.9\n",
      "6\n"
     ]
    }
   ],
   "source": [
    "res4 = scipy.optimize.minimize(h, \n",
    "                        (30), \n",
    "                        args=(), \n",
    "                        method='BFGS', \n",
    "                        jac=None, \n",
    "                        hess=None, \n",
    "                        hessp=None, \n",
    "                        bounds= None, \n",
    "                        constraints=(), \n",
    "                        tol=None, \n",
    "                        callback=None,\n",
    "                        options=None)\n",
    "print res3.x\n",
    "print  round( res3.fun, 2)\n",
    "print res3.nit"
   ]
  },
  {
   "cell_type": "code",
   "execution_count": 6,
   "metadata": {},
   "outputs": [
    {
     "name": "stdout",
     "output_type": "stream",
     "text": [
      "[24.64016064]\n",
      "-11.0\n",
      "4\n"
     ]
    }
   ],
   "source": [
    "res5=scipy.optimize.differential_evolution(h, \n",
    "                                      [ [0,30] ], \n",
    "                                      args=(), \n",
    "                                      strategy='best1bin',\n",
    "                                      maxiter=1000, \n",
    "                                      popsize=15,\n",
    "                                      tol=0.01, \n",
    "                                      mutation=(0.5, 1),\n",
    "                                      recombination=0.7,\n",
    "                                      seed=None, \n",
    "                                      callback=None, \n",
    "                                      disp=False, \n",
    "                                      polish=True, \n",
    "                                      init='latinhypercube', \n",
    "                                      atol=0)\n",
    "print res5.x\n",
    "print  round( res5.fun, 2)\n",
    "print res5.nit"
   ]
  },
  {
   "cell_type": "code",
   "execution_count": 7,
   "metadata": {},
   "outputs": [
    {
     "data": {
      "image/png": "[encoded data removed]",
      "text/plain": [
       "<Figure size 432x288 with 1 Axes>"
      ]
     },
     "metadata": {
      "needs_background": "light"
     },
     "output_type": "display_data"
    }
   ],
   "source": [
    "x = np.arange(0, 30, 1)\n",
    "y = np.sin(x/5.0)*np.exp(x/10.0)+5 * np.exp(-x / 2.0)\n",
    "fu = interpolate.interp1d(x, y)\n",
    "xnew = np.arange(0, 30, 1)\n",
    "ynew = fu(xnew)\n",
    "plt.plot(x, y, 'o', xnew, ynew, '-')\n",
    "plt.show()"
   ]
  },
  {
   "cell_type": "code",
   "execution_count": 8,
   "metadata": {},
   "outputs": [
    {
     "data": {
      "image/png": "[encoded data removed]",
      "text/plain": [
       "<Figure size 432x288 with 1 Axes>"
      ]
     },
     "metadata": {
      "needs_background": "light"
     },
     "output_type": "display_data"
    }
   ],
   "source": [
    "x = np.arange(0, 30, 1)\n",
    "y = np.round( np.sin(x/5.0)*np.exp(x/10.0)+5 * np.exp(-x / 2.0) )\n",
    "y.astype(int)\n",
    "fu = interpolate.interp1d(x, y)\n",
    "xnew = np.arange(0, 30, 1)\n",
    "ynew = fu(xnew)\n",
    "plt.plot(x, y, 'o', xnew, ynew, '-')\n",
    "plt.show()"
   ]
  }
 ],
 "metadata": {
  "kernelspec": {
   "display_name": "Python 2",
   "language": "python",
   "name": "python2"
  },
  "language_info": {
   "codemirror_mode": {
    "name": "ipython",
    "version": 2
   },
   "file_extension": ".py",
   "mimetype": "text/x-python",
   "name": "python",
   "nbconvert_exporter": "python",
   "pygments_lexer": "ipython2",
   "version": "2.7.15"
  }
 },
 "nbformat": 4,
 "nbformat_minor": 2
}
