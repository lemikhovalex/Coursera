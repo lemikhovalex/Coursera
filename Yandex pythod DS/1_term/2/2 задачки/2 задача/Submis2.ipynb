{
 "cells": [
  {
   "cell_type": "code",
   "execution_count": 11,
   "metadata": {},
   "outputs": [],
   "source": [
    "import math\n",
    "import scipy\n",
    "import numpy as np\n",
    "def f(x):\n",
    "    return math.sin(x/5.0)*math.exp(x/10.0)+5.0 * math.exp(-x / 2.0)"
   ]
  },
  {
   "cell_type": "code",
   "execution_count": 15,
   "metadata": {},
   "outputs": [
    {
     "name": "stdout",
     "output_type": "stream",
     "text": [
      "[[ 4.36]\n",
      " [-1.3 ]\n",
      " [ 0.19]\n",
      " [-0.01]]\n"
     ]
    }
   ],
   "source": [
    "a= [ 1.0, 4.0, 10.0, 15.0]\n",
    "A=np.zeros((4, 4))\n",
    "fz=np.zeros((4, 1))\n",
    "for i in range(4):\n",
    "    fz[i][0]=f( a[i] )\n",
    "    for j in range(4):\n",
    "        A[i][j]=math.pow(a[i], j)\n",
    "w = np.linalg.solve(A, fz)\n",
    "for i in range(4):\n",
    "    w[i][0]=round( w[i][0], 2)\n",
    "print w\n"
   ]
  },
  {
   "cell_type": "code",
   "execution_count": 12,
   "metadata": {},
   "outputs": [
    {
     "name": "stdout",
     "output_type": "stream",
     "text": [
      "Object `scipy.linalg.solve` not found.\n"
     ]
    }
   ],
   "source": [
    "?scipy.linalg.solve()"
   ]
  }
 ],
 "metadata": {
  "kernelspec": {
   "display_name": "Python 2",
   "language": "python",
   "name": "python2"
  },
  "language_info": {
   "codemirror_mode": {
    "name": "ipython",
    "version": 2
   },
   "file_extension": ".py",
   "mimetype": "text/x-python",
   "name": "python",
   "nbconvert_exporter": "python",
   "pygments_lexer": "ipython2",
   "version": "2.7.15"
  }
 },
 "nbformat": 4,
 "nbformat_minor": 2
}
