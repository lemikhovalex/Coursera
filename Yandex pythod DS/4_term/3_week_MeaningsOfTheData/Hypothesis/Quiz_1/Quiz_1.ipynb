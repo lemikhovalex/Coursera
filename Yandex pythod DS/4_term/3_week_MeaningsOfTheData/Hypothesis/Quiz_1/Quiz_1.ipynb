{
 "cells": [
  {
   "cell_type": "code",
   "execution_count": null,
   "metadata": {},
   "outputs": [],
   "source": []
  },
  {
   "cell_type": "markdown",
   "metadata": {},
   "source": [
    "1: одношаговая\n",
    "\n",
    "2: min max\n",
    "\n",
    "3: безусловный, при любых\n",
    "\n",
    "4: там где мат ожидание\n",
    "\n",
    "5: БХ\n",
    "\n",
    "6: -\n",
    "\n",
    "    wrong: Вероятность того, что хотябы одна из ста отвергнута ложно меньше 5%"
   ]
  }
 ],
 "metadata": {
  "kernelspec": {
   "display_name": "Python 3",
   "language": "python",
   "name": "python3"
  },
  "language_info": {
   "codemirror_mode": {
    "name": "ipython",
    "version": 3
   },
   "file_extension": ".py",
   "mimetype": "text/x-python",
   "name": "python",
   "nbconvert_exporter": "python",
   "pygments_lexer": "ipython3",
   "version": "3.6.8"
  }
 },
 "nbformat": 4,
 "nbformat_minor": 2
}
