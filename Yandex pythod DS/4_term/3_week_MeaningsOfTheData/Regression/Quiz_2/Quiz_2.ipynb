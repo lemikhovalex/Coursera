{
 "cells": [
  {
   "cell_type": "code",
   "execution_count": 27,
   "metadata": {},
   "outputs": [],
   "source": [
    "import statsmodels\n",
    "import scipy as sc\n",
    "import numpy as np\n",
    "import pandas as pd\n",
    "import statsmodels.formula.api as smf\n",
    "import statsmodels.stats.diagnostic as sms\n",
    "from statsmodels.graphics.regressionplots import plot_leverage_resid2\n",
    "import matplotlib.pyplot as plt"
   ]
  },
  {
   "cell_type": "code",
   "execution_count": 28,
   "metadata": {},
   "outputs": [],
   "source": [
    "import math"
   ]
  },
  {
   "cell_type": "markdown",
   "metadata": {},
   "source": [
    "## Выбери кернел python2"
   ]
  },
  {
   "cell_type": "markdown",
   "metadata": {},
   "source": [
    "1: 4\n",
    "\n",
    "2: 1834\n",
    "\n",
    "3: 123\n",
    "\n",
    "4: 78264\n",
    "\n",
    "5: 0.644\n",
    "\n",
    "6: 3\n",
    "\n",
    "7: p<\n",
    "\n",
    "8: 0.4672\n",
    "    \n",
    "9: 40"
   ]
  },
  {
   "cell_type": "code",
   "execution_count": 29,
   "metadata": {},
   "outputs": [
    {
     "name": "stdout",
     "output_type": "stream",
     "text": [
      "Populating the interactive namespace from numpy and matplotlib\n"
     ]
    }
   ],
   "source": [
    "%pylab inline"
   ]
  },
  {
   "cell_type": "code",
   "execution_count": 30,
   "metadata": {},
   "outputs": [
    {
     "data": {
      "text/html": [
       "<div>\n",
       "<style scoped>\n",
       "    .dataframe tbody tr th:only-of-type {\n",
       "        vertical-align: middle;\n",
       "    }\n",
       "\n",
       "    .dataframe tbody tr th {\n",
       "        vertical-align: top;\n",
       "    }\n",
       "\n",
       "    .dataframe thead th {\n",
       "        text-align: right;\n",
       "    }\n",
       "</style>\n",
       "<table border=\"1\" class=\"dataframe\">\n",
       "  <thead>\n",
       "    <tr style=\"text-align: right;\">\n",
       "      <th></th>\n",
       "      <th>ceb</th>\n",
       "      <th>age</th>\n",
       "      <th>educ</th>\n",
       "      <th>religion</th>\n",
       "      <th>idlnchld</th>\n",
       "      <th>knowmeth</th>\n",
       "      <th>usemeth</th>\n",
       "      <th>evermarr</th>\n",
       "      <th>agefm</th>\n",
       "      <th>heduc</th>\n",
       "      <th>urban</th>\n",
       "      <th>electric</th>\n",
       "      <th>radio</th>\n",
       "      <th>tv</th>\n",
       "      <th>bicycle</th>\n",
       "    </tr>\n",
       "  </thead>\n",
       "  <tbody>\n",
       "    <tr>\n",
       "      <th>0</th>\n",
       "      <td>0</td>\n",
       "      <td>18</td>\n",
       "      <td>10</td>\n",
       "      <td>catholic</td>\n",
       "      <td>4.0</td>\n",
       "      <td>1.0</td>\n",
       "      <td>1.0</td>\n",
       "      <td>0</td>\n",
       "      <td>NaN</td>\n",
       "      <td>NaN</td>\n",
       "      <td>1</td>\n",
       "      <td>1.0</td>\n",
       "      <td>1.0</td>\n",
       "      <td>1.0</td>\n",
       "      <td>1.0</td>\n",
       "    </tr>\n",
       "    <tr>\n",
       "      <th>1</th>\n",
       "      <td>2</td>\n",
       "      <td>43</td>\n",
       "      <td>11</td>\n",
       "      <td>protestant</td>\n",
       "      <td>2.0</td>\n",
       "      <td>1.0</td>\n",
       "      <td>1.0</td>\n",
       "      <td>1</td>\n",
       "      <td>20.0</td>\n",
       "      <td>14.0</td>\n",
       "      <td>1</td>\n",
       "      <td>1.0</td>\n",
       "      <td>1.0</td>\n",
       "      <td>1.0</td>\n",
       "      <td>1.0</td>\n",
       "    </tr>\n",
       "    <tr>\n",
       "      <th>2</th>\n",
       "      <td>0</td>\n",
       "      <td>49</td>\n",
       "      <td>4</td>\n",
       "      <td>spirit</td>\n",
       "      <td>4.0</td>\n",
       "      <td>1.0</td>\n",
       "      <td>0.0</td>\n",
       "      <td>1</td>\n",
       "      <td>22.0</td>\n",
       "      <td>1.0</td>\n",
       "      <td>1</td>\n",
       "      <td>1.0</td>\n",
       "      <td>1.0</td>\n",
       "      <td>0.0</td>\n",
       "      <td>0.0</td>\n",
       "    </tr>\n",
       "    <tr>\n",
       "      <th>3</th>\n",
       "      <td>0</td>\n",
       "      <td>24</td>\n",
       "      <td>12</td>\n",
       "      <td>other</td>\n",
       "      <td>2.0</td>\n",
       "      <td>1.0</td>\n",
       "      <td>0.0</td>\n",
       "      <td>0</td>\n",
       "      <td>NaN</td>\n",
       "      <td>NaN</td>\n",
       "      <td>1</td>\n",
       "      <td>1.0</td>\n",
       "      <td>1.0</td>\n",
       "      <td>1.0</td>\n",
       "      <td>1.0</td>\n",
       "    </tr>\n",
       "    <tr>\n",
       "      <th>4</th>\n",
       "      <td>3</td>\n",
       "      <td>32</td>\n",
       "      <td>13</td>\n",
       "      <td>other</td>\n",
       "      <td>3.0</td>\n",
       "      <td>1.0</td>\n",
       "      <td>1.0</td>\n",
       "      <td>1</td>\n",
       "      <td>24.0</td>\n",
       "      <td>12.0</td>\n",
       "      <td>1</td>\n",
       "      <td>1.0</td>\n",
       "      <td>1.0</td>\n",
       "      <td>1.0</td>\n",
       "      <td>1.0</td>\n",
       "    </tr>\n",
       "  </tbody>\n",
       "</table>\n",
       "</div>"
      ],
      "text/plain": [
       "   ceb  age  educ    religion  idlnchld  knowmeth  usemeth  evermarr  agefm  \\\n",
       "0    0   18    10    catholic       4.0       1.0      1.0         0    NaN   \n",
       "1    2   43    11  protestant       2.0       1.0      1.0         1   20.0   \n",
       "2    0   49     4      spirit       4.0       1.0      0.0         1   22.0   \n",
       "3    0   24    12       other       2.0       1.0      0.0         0    NaN   \n",
       "4    3   32    13       other       3.0       1.0      1.0         1   24.0   \n",
       "\n",
       "   heduc  urban  electric  radio   tv  bicycle  \n",
       "0    NaN      1       1.0    1.0  1.0      1.0  \n",
       "1   14.0      1       1.0    1.0  1.0      1.0  \n",
       "2    1.0      1       1.0    1.0  0.0      0.0  \n",
       "3    NaN      1       1.0    1.0  1.0      1.0  \n",
       "4   12.0      1       1.0    1.0  1.0      1.0  "
      ]
     },
     "execution_count": 30,
     "metadata": {},
     "output_type": "execute_result"
    }
   ],
   "source": [
    "data = pd.read_csv(\"botswana.tsv\", sep=\"\\t\", index_col=False) \n",
    "NaaN = data['agefm'][0]\n",
    "data.head()"
   ]
  },
  {
   "cell_type": "markdown",
   "metadata": {},
   "source": [
    "## 1) Узнаём сколько религий"
   ]
  },
  {
   "cell_type": "code",
   "execution_count": 31,
   "metadata": {},
   "outputs": [
    {
     "data": {
      "image/png": "[encoded data removed]",
      "text/plain": [
       "<Figure size 576x504 with 1 Axes>"
      ]
     },
     "metadata": {
      "needs_background": "light"
     },
     "output_type": "display_data"
    }
   ],
   "source": [
    "plt.figure(figsize(8,7))\n",
    "data.groupby('religion')['religion'].agg(lambda x: len(x)).plot(kind='bar', width=0.9)\n",
    "plt.xticks(rotation=0)\n",
    "plt.xlabel('religion', fontsize=14)\n",
    "pylab.show()"
   ]
  },
  {
   "cell_type": "markdown",
   "metadata": {},
   "source": [
    "## 2) Считаем сколько строк без NaN"
   ]
  },
  {
   "cell_type": "code",
   "execution_count": 32,
   "metadata": {},
   "outputs": [
    {
     "data": {
      "text/html": [
       "<div>\n",
       "<style scoped>\n",
       "    .dataframe tbody tr th:only-of-type {\n",
       "        vertical-align: middle;\n",
       "    }\n",
       "\n",
       "    .dataframe tbody tr th {\n",
       "        vertical-align: top;\n",
       "    }\n",
       "\n",
       "    .dataframe thead th {\n",
       "        text-align: right;\n",
       "    }\n",
       "</style>\n",
       "<table border=\"1\" class=\"dataframe\">\n",
       "  <thead>\n",
       "    <tr style=\"text-align: right;\">\n",
       "      <th></th>\n",
       "      <th>ceb</th>\n",
       "      <th>age</th>\n",
       "      <th>educ</th>\n",
       "      <th>idlnchld</th>\n",
       "      <th>knowmeth</th>\n",
       "      <th>usemeth</th>\n",
       "      <th>evermarr</th>\n",
       "      <th>agefm</th>\n",
       "      <th>heduc</th>\n",
       "      <th>urban</th>\n",
       "      <th>electric</th>\n",
       "      <th>radio</th>\n",
       "      <th>tv</th>\n",
       "      <th>bicycle</th>\n",
       "    </tr>\n",
       "  </thead>\n",
       "  <tbody>\n",
       "    <tr>\n",
       "      <th>count</th>\n",
       "      <td>1834.000000</td>\n",
       "      <td>1834.000000</td>\n",
       "      <td>1834.000000</td>\n",
       "      <td>1834.000000</td>\n",
       "      <td>1834.000000</td>\n",
       "      <td>1834.000000</td>\n",
       "      <td>1834.0</td>\n",
       "      <td>1834.000000</td>\n",
       "      <td>1834.000000</td>\n",
       "      <td>1834.000000</td>\n",
       "      <td>1834.000000</td>\n",
       "      <td>1834.000000</td>\n",
       "      <td>1834.000000</td>\n",
       "      <td>1834.000000</td>\n",
       "    </tr>\n",
       "    <tr>\n",
       "      <th>mean</th>\n",
       "      <td>3.665758</td>\n",
       "      <td>31.835333</td>\n",
       "      <td>5.230643</td>\n",
       "      <td>5.236096</td>\n",
       "      <td>0.966739</td>\n",
       "      <td>0.657579</td>\n",
       "      <td>1.0</td>\n",
       "      <td>20.696292</td>\n",
       "      <td>5.271538</td>\n",
       "      <td>0.541439</td>\n",
       "      <td>0.172846</td>\n",
       "      <td>0.709378</td>\n",
       "      <td>0.123228</td>\n",
       "      <td>0.304253</td>\n",
       "    </tr>\n",
       "    <tr>\n",
       "      <th>std</th>\n",
       "      <td>2.433189</td>\n",
       "      <td>7.689567</td>\n",
       "      <td>4.223918</td>\n",
       "      <td>2.371035</td>\n",
       "      <td>0.179365</td>\n",
       "      <td>0.474649</td>\n",
       "      <td>0.0</td>\n",
       "      <td>4.973461</td>\n",
       "      <td>4.821233</td>\n",
       "      <td>0.498416</td>\n",
       "      <td>0.378217</td>\n",
       "      <td>0.454173</td>\n",
       "      <td>0.328788</td>\n",
       "      <td>0.460216</td>\n",
       "    </tr>\n",
       "    <tr>\n",
       "      <th>min</th>\n",
       "      <td>0.000000</td>\n",
       "      <td>16.000000</td>\n",
       "      <td>0.000000</td>\n",
       "      <td>0.000000</td>\n",
       "      <td>0.000000</td>\n",
       "      <td>0.000000</td>\n",
       "      <td>1.0</td>\n",
       "      <td>10.000000</td>\n",
       "      <td>0.000000</td>\n",
       "      <td>0.000000</td>\n",
       "      <td>0.000000</td>\n",
       "      <td>0.000000</td>\n",
       "      <td>0.000000</td>\n",
       "      <td>0.000000</td>\n",
       "    </tr>\n",
       "    <tr>\n",
       "      <th>25%</th>\n",
       "      <td>2.000000</td>\n",
       "      <td>26.000000</td>\n",
       "      <td>0.000000</td>\n",
       "      <td>4.000000</td>\n",
       "      <td>1.000000</td>\n",
       "      <td>0.000000</td>\n",
       "      <td>1.0</td>\n",
       "      <td>17.000000</td>\n",
       "      <td>0.000000</td>\n",
       "      <td>0.000000</td>\n",
       "      <td>0.000000</td>\n",
       "      <td>0.000000</td>\n",
       "      <td>0.000000</td>\n",
       "      <td>0.000000</td>\n",
       "    </tr>\n",
       "    <tr>\n",
       "      <th>50%</th>\n",
       "      <td>3.000000</td>\n",
       "      <td>31.000000</td>\n",
       "      <td>6.000000</td>\n",
       "      <td>5.000000</td>\n",
       "      <td>1.000000</td>\n",
       "      <td>1.000000</td>\n",
       "      <td>1.0</td>\n",
       "      <td>20.000000</td>\n",
       "      <td>6.000000</td>\n",
       "      <td>1.000000</td>\n",
       "      <td>0.000000</td>\n",
       "      <td>1.000000</td>\n",
       "      <td>0.000000</td>\n",
       "      <td>0.000000</td>\n",
       "    </tr>\n",
       "    <tr>\n",
       "      <th>75%</th>\n",
       "      <td>5.000000</td>\n",
       "      <td>37.000000</td>\n",
       "      <td>7.000000</td>\n",
       "      <td>6.000000</td>\n",
       "      <td>1.000000</td>\n",
       "      <td>1.000000</td>\n",
       "      <td>1.0</td>\n",
       "      <td>23.000000</td>\n",
       "      <td>9.000000</td>\n",
       "      <td>1.000000</td>\n",
       "      <td>0.000000</td>\n",
       "      <td>1.000000</td>\n",
       "      <td>0.000000</td>\n",
       "      <td>1.000000</td>\n",
       "    </tr>\n",
       "    <tr>\n",
       "      <th>max</th>\n",
       "      <td>13.000000</td>\n",
       "      <td>49.000000</td>\n",
       "      <td>20.000000</td>\n",
       "      <td>20.000000</td>\n",
       "      <td>1.000000</td>\n",
       "      <td>1.000000</td>\n",
       "      <td>1.0</td>\n",
       "      <td>46.000000</td>\n",
       "      <td>20.000000</td>\n",
       "      <td>1.000000</td>\n",
       "      <td>1.000000</td>\n",
       "      <td>1.000000</td>\n",
       "      <td>1.000000</td>\n",
       "      <td>1.000000</td>\n",
       "    </tr>\n",
       "  </tbody>\n",
       "</table>\n",
       "</div>"
      ],
      "text/plain": [
       "               ceb          age         educ     idlnchld     knowmeth  \\\n",
       "count  1834.000000  1834.000000  1834.000000  1834.000000  1834.000000   \n",
       "mean      3.665758    31.835333     5.230643     5.236096     0.966739   \n",
       "std       2.433189     7.689567     4.223918     2.371035     0.179365   \n",
       "min       0.000000    16.000000     0.000000     0.000000     0.000000   \n",
       "25%       2.000000    26.000000     0.000000     4.000000     1.000000   \n",
       "50%       3.000000    31.000000     6.000000     5.000000     1.000000   \n",
       "75%       5.000000    37.000000     7.000000     6.000000     1.000000   \n",
       "max      13.000000    49.000000    20.000000    20.000000     1.000000   \n",
       "\n",
       "           usemeth  evermarr        agefm        heduc        urban  \\\n",
       "count  1834.000000    1834.0  1834.000000  1834.000000  1834.000000   \n",
       "mean      0.657579       1.0    20.696292     5.271538     0.541439   \n",
       "std       0.474649       0.0     4.973461     4.821233     0.498416   \n",
       "min       0.000000       1.0    10.000000     0.000000     0.000000   \n",
       "25%       0.000000       1.0    17.000000     0.000000     0.000000   \n",
       "50%       1.000000       1.0    20.000000     6.000000     1.000000   \n",
       "75%       1.000000       1.0    23.000000     9.000000     1.000000   \n",
       "max       1.000000       1.0    46.000000    20.000000     1.000000   \n",
       "\n",
       "          electric        radio           tv      bicycle  \n",
       "count  1834.000000  1834.000000  1834.000000  1834.000000  \n",
       "mean      0.172846     0.709378     0.123228     0.304253  \n",
       "std       0.378217     0.454173     0.328788     0.460216  \n",
       "min       0.000000     0.000000     0.000000     0.000000  \n",
       "25%       0.000000     0.000000     0.000000     0.000000  \n",
       "50%       0.000000     1.000000     0.000000     0.000000  \n",
       "75%       0.000000     1.000000     0.000000     1.000000  \n",
       "max       1.000000     1.000000     1.000000     1.000000  "
      ]
     },
     "execution_count": 32,
     "metadata": {},
     "output_type": "execute_result"
    }
   ],
   "source": [
    "data.dropna().describe()"
   ]
  },
  {
   "cell_type": "markdown",
   "metadata": {},
   "source": [
    "## 3) Предобработка с одним"
   ]
  },
  {
   "cell_type": "code",
   "execution_count": 34,
   "metadata": {},
   "outputs": [],
   "source": [
    "data['nevermarr'] = np.where(data['agefm'].isnull(), 1, 0)\n",
    "data.drop(['evermarr'], axis = 1, inplace=True)\n",
    "data['agefm'] = np.where(data['agefm'].isnull(), 0, data['agefm'])\n",
    "data['heduc'] = np.where((data['heduc'].isnull()) & (data['nevermarr'] == 1), -1, data['heduc'])"
   ]
  },
  {
   "cell_type": "code",
   "execution_count": 35,
   "metadata": {},
   "outputs": [
    {
     "data": {
      "text/plain": [
       "123"
      ]
     },
     "execution_count": 35,
     "metadata": {},
     "output_type": "execute_result"
    }
   ],
   "source": [
    "data['heduc'].isna().sum()"
   ]
  },
  {
   "cell_type": "markdown",
   "metadata": {},
   "source": [
    "## 4) Предобработка ещё трёх"
   ]
  },
  {
   "cell_type": "code",
   "execution_count": 47,
   "metadata": {},
   "outputs": [],
   "source": [
    "data['idlnchld_noans'] = np.where(data['idlnchld'].isnull(), 1, 0)\n",
    "data['heduc_noans'] = np.where(data['heduc'].isnull(), 1, 0)\n",
    "data['usemeth_noans'] = np.where(data['usemeth'].isnull(), 1, 0)\n",
    "\n",
    "data['idlnchld'] = np.where(data['idlnchld'].isnull(), -1, data['idlnchld'])\n",
    "data['heduc'] = np.where(data['heduc'].isnull(), -2, data['heduc'])\n",
    "data['usemeth'] = np.where(data['usemeth'].isnull(), -1, data['usemeth'])\n",
    "\n",
    "data.dropna(inplace = True)"
   ]
  },
  {
   "cell_type": "code",
   "execution_count": 49,
   "metadata": {},
   "outputs": [
    {
     "name": "stdout",
     "output_type": "stream",
     "text": [
      "('New Shape =', 78264)\n"
     ]
    }
   ],
   "source": [
    "print('New Shape =', data.shape[0]*data.shape[1])"
   ]
  },
  {
   "cell_type": "markdown",
   "metadata": {},
   "source": [
    "## 5) Построение регрессии"
   ]
  },
  {
   "cell_type": "code",
   "execution_count": 50,
   "metadata": {},
   "outputs": [
    {
     "name": "stdout",
     "output_type": "stream",
     "text": [
      "ceb\n",
      "age\n",
      "educ\n",
      "religion\n",
      "idlnchld\n",
      "knowmeth\n",
      "usemeth\n",
      "agefm\n",
      "heduc\n",
      "urban\n",
      "electric\n",
      "radio\n",
      "tv\n",
      "bicycle\n",
      "nevermarr\n",
      "idlnchld_noans\n",
      "heduc_noans\n",
      "usemeth_noans\n",
      "ceb ~ age + educ + religion + idlnchld + knowmeth + usemeth + agefm + heduc + urban + electric + radio + tv + bicycle + nevermarr + idlnchld_noans + heduc_noans + usemeth_noans\n"
     ]
    }
   ],
   "source": [
    "q = 'ceb ~ '\n",
    "for col in data.columns.values:\n",
    "    print(col)\n",
    "    if col != 'ceb':\n",
    "        q = q + col +' + '\n",
    "q = q[:-3]\n",
    "print(q)"
   ]
  },
  {
   "cell_type": "code",
   "execution_count": 51,
   "metadata": {},
   "outputs": [
    {
     "name": "stdout",
     "output_type": "stream",
     "text": [
      "                            OLS Regression Results                            \n",
      "==============================================================================\n",
      "Dep. Variable:                    ceb   R-squared:                       0.638\n",
      "Model:                            OLS   Adj. R-squared:                  0.637\n",
      "Method:                 Least Squares   F-statistic:                     477.9\n",
      "Date:                Tue, 08 Oct 2019   Prob (F-statistic):               0.00\n",
      "Time:                        11:29:04   Log-Likelihood:                -7767.4\n",
      "No. Observations:                4348   AIC:                         1.557e+04\n",
      "Df Residuals:                    4331   BIC:                         1.568e+04\n",
      "Df Model:                          16                                         \n",
      "Covariance Type:            nonrobust                                         \n",
      "==========================================================================================\n",
      "                             coef    std err          t      P>|t|      [0.025      0.975]\n",
      "------------------------------------------------------------------------------------------\n",
      "Intercept                 -0.9862      0.211     -4.668      0.000      -1.400      -0.572\n",
      "religion[T.other]         -0.0924      0.083     -1.108      0.268      -0.256       0.071\n",
      "religion[T.protestant]    -0.0216      0.083     -0.261      0.794      -0.184       0.141\n",
      "religion[T.spirit]        -0.0198      0.078     -0.254      0.800      -0.172       0.133\n",
      "age                        0.1736      0.003     53.381      0.000       0.167       0.180\n",
      "educ                      -0.0762      0.007    -10.373      0.000      -0.091      -0.062\n",
      "idlnchld                   0.0568      0.010      5.774      0.000       0.038       0.076\n",
      "knowmeth                   0.5744      0.122      4.726      0.000       0.336       0.813\n",
      "usemeth                    0.5464      0.044     12.306      0.000       0.459       0.633\n",
      "agefm                     -0.0630      0.007     -9.539      0.000      -0.076      -0.050\n",
      "heduc                     -0.0381      0.008     -5.051      0.000      -0.053      -0.023\n",
      "urban                     -0.2311      0.047     -4.866      0.000      -0.324      -0.138\n",
      "electric                  -0.2928      0.078     -3.768      0.000      -0.445      -0.140\n",
      "radio                     -0.0302      0.051     -0.589      0.556      -0.131       0.070\n",
      "tv                        -0.1741      0.093     -1.866      0.062      -0.357       0.009\n",
      "bicycle                    0.2138      0.051      4.225      0.000       0.115       0.313\n",
      "nevermarr                 -2.1640      0.147    -14.769      0.000      -2.451      -1.877\n",
      "idlnchld_noans                  0          0        nan        nan           0           0\n",
      "heduc_noans                     0          0        nan        nan           0           0\n",
      "usemeth_noans                   0          0        nan        nan           0           0\n",
      "==============================================================================\n",
      "Omnibus:                      226.303   Durbin-Watson:                   1.885\n",
      "Prob(Omnibus):                  0.000   Jarque-Bera (JB):              872.294\n",
      "Skew:                          -0.006   Prob(JB):                    3.84e-190\n",
      "Kurtosis:                       5.194   Cond. No.                          inf\n",
      "==============================================================================\n",
      "\n",
      "Warnings:\n",
      "[1] Standard Errors assume that the covariance matrix of the errors is correctly specified.\n",
      "[2] The smallest eigenvalue is      0. This might indicate that there are\n",
      "strong multicollinearity problems or that the design matrix is singular.\n"
     ]
    },
    {
     "name": "stderr",
     "output_type": "stream",
     "text": [
      "/home/lemikhovalex/anaconda2/lib/python2.7/site-packages/statsmodels/regression/linear_model.py:1633: RuntimeWarning: divide by zero encountered in double_scalars\n",
      "  return np.sqrt(eigvals[0]/eigvals[-1])\n",
      "/home/lemikhovalex/anaconda2/lib/python2.7/site-packages/statsmodels/base/model.py:1100: RuntimeWarning: invalid value encountered in divide\n",
      "  return self.params / self.bse\n",
      "/home/lemikhovalex/.local/lib/python2.7/site-packages/scipy/stats/_distn_infrastructure.py:879: RuntimeWarning: invalid value encountered in greater\n",
      "  return (self.a < x) & (x < self.b)\n",
      "/home/lemikhovalex/.local/lib/python2.7/site-packages/scipy/stats/_distn_infrastructure.py:879: RuntimeWarning: invalid value encountered in less\n",
      "  return (self.a < x) & (x < self.b)\n",
      "/home/lemikhovalex/.local/lib/python2.7/site-packages/scipy/stats/_distn_infrastructure.py:1821: RuntimeWarning: invalid value encountered in less_equal\n",
      "  cond2 = cond0 & (x <= self.a)\n"
     ]
    }
   ],
   "source": [
    "m5 = smf.ols(q, \n",
    "             data=data)\n",
    "fitted5 = m5.fit()\n",
    "print(fitted5.summary())"
   ]
  },
  {
   "cell_type": "markdown",
   "metadata": {},
   "source": [
    "## 6 Посчитать новые признаки про религии"
   ]
  },
  {
   "cell_type": "markdown",
   "metadata": {},
   "source": [
    "## 7 Проверим критерий"
   ]
  },
  {
   "cell_type": "code",
   "execution_count": 52,
   "metadata": {},
   "outputs": [
    {
     "name": "stdout",
     "output_type": "stream",
     "text": [
      "Breusch-Pagan test: p=0.000000\n"
     ]
    },
    {
     "name": "stderr",
     "output_type": "stream",
     "text": [
      "/home/lemikhovalex/anaconda2/lib/python2.7/site-packages/ipykernel_launcher.py:1: DeprecationWarning: `het_breushpagan` is deprecated, use `het_breuschpagan` instead!\n",
      "Use het_breuschpagan, het_breushpagan will be removed in 0.9 \n",
      "(Note: misspelling missing 'c')\n",
      "  \"\"\"Entry point for launching an IPython kernel.\n"
     ]
    }
   ],
   "source": [
    "print('Breusch-Pagan test: p=%f' % sms.het_breushpagan(fitted5.resid, fitted5.model.exog)[1])"
   ]
  },
  {
   "cell_type": "markdown",
   "metadata": {},
   "source": [
    "Маленький, изменяем модель, добавляем поправку"
   ]
  },
  {
   "cell_type": "code",
   "execution_count": 53,
   "metadata": {},
   "outputs": [
    {
     "name": "stdout",
     "output_type": "stream",
     "text": [
      "                            OLS Regression Results                            \n",
      "==============================================================================\n",
      "Dep. Variable:                    ceb   R-squared:                       0.638\n",
      "Model:                            OLS   Adj. R-squared:                  0.637\n",
      "Method:                 Least Squares   F-statistic:                     380.7\n",
      "Date:                Tue, 08 Oct 2019   Prob (F-statistic):               0.00\n",
      "Time:                        11:29:08   Log-Likelihood:                -7767.4\n",
      "No. Observations:                4348   AIC:                         1.557e+04\n",
      "Df Residuals:                    4331   BIC:                         1.568e+04\n",
      "Df Model:                          16                                         \n",
      "Covariance Type:                  HC1                                         \n",
      "==========================================================================================\n",
      "                             coef    std err          z      P>|z|      [0.025      0.975]\n",
      "------------------------------------------------------------------------------------------\n",
      "Intercept                 -0.9862      0.258     -3.817      0.000      -1.493      -0.480\n",
      "religion[T.other]         -0.0924      0.078     -1.184      0.237      -0.245       0.061\n",
      "religion[T.protestant]    -0.0216      0.078     -0.277      0.782      -0.175       0.131\n",
      "religion[T.spirit]        -0.0198      0.072     -0.276      0.782      -0.160       0.121\n",
      "age                        0.1736      0.004     39.792      0.000       0.165       0.182\n",
      "educ                      -0.0762      0.007    -10.436      0.000      -0.091      -0.062\n",
      "idlnchld                   0.0568      0.014      4.182      0.000       0.030       0.083\n",
      "knowmeth                   0.5744      0.172      3.345      0.001       0.238       0.911\n",
      "usemeth                    0.5464      0.047     11.646      0.000       0.454       0.638\n",
      "agefm                     -0.0630      0.010     -6.437      0.000      -0.082      -0.044\n",
      "heduc                     -0.0381      0.009     -4.478      0.000      -0.055      -0.021\n",
      "urban                     -0.2311      0.046     -5.003      0.000      -0.322      -0.141\n",
      "electric                  -0.2928      0.074     -3.975      0.000      -0.437      -0.148\n",
      "radio                     -0.0302      0.053     -0.569      0.569      -0.134       0.074\n",
      "tv                        -0.1741      0.083     -2.089      0.037      -0.337      -0.011\n",
      "bicycle                    0.2138      0.049      4.361      0.000       0.118       0.310\n",
      "nevermarr                 -2.1640      0.202    -10.737      0.000      -2.559      -1.769\n",
      "idlnchld_noans                  0          0        nan        nan           0           0\n",
      "heduc_noans                     0          0        nan        nan           0           0\n",
      "usemeth_noans                   0          0        nan        nan           0           0\n",
      "==============================================================================\n",
      "Omnibus:                      226.303   Durbin-Watson:                   1.885\n",
      "Prob(Omnibus):                  0.000   Jarque-Bera (JB):              872.294\n",
      "Skew:                          -0.006   Prob(JB):                    3.84e-190\n",
      "Kurtosis:                       5.194   Cond. No.                          inf\n",
      "==============================================================================\n",
      "\n",
      "Warnings:\n",
      "[1] Standard Errors are heteroscedasticity robust (HC1)\n",
      "[2] The smallest eigenvalue is      0. This might indicate that there are\n",
      "strong multicollinearity problems or that the design matrix is singular.\n"
     ]
    },
    {
     "name": "stderr",
     "output_type": "stream",
     "text": [
      "/home/lemikhovalex/anaconda2/lib/python2.7/site-packages/statsmodels/base/model.py:1532: ValueWarning: covariance of constraints does not have full rank. The number of constraints is 19, but rank is 16\n",
      "  'rank is %d' % (J, J_), ValueWarning)\n"
     ]
    }
   ],
   "source": [
    "m7 = smf.ols(q, \n",
    "             data=data)\n",
    "fitted7 = m7.fit(cov_type='HC1')\n",
    "print fitted7.summary()"
   ]
  },
  {
   "cell_type": "markdown",
   "metadata": {},
   "source": [
    "## 8 удаяем признаки"
   ]
  },
  {
   "cell_type": "code",
   "execution_count": 59,
   "metadata": {},
   "outputs": [
    {
     "name": "stdout",
     "output_type": "stream",
     "text": [
      "F=1.244235, p=0.285502, k1=5.000000\n"
     ]
    }
   ],
   "source": [
    "m4 = smf.ols('ceb ~ age + educ + idlnchld + knowmeth + usemeth + agefm + heduc + urban + electric + bicycle + nevermarr + idlnchld_noans + heduc_noans + usemeth_noans',\n",
    "             data = data)\n",
    "fitted = m4.fit(cov_type='HC1')\n",
    "\n",
    "m2 = smf.ols('ceb ~ age + educ + religion + idlnchld + knowmeth + usemeth + agefm + heduc + urban + electric + radio + tv + bicycle + nevermarr + idlnchld_noans + heduc_noans + usemeth_noans',\n",
    "             data = data\n",
    "            )\n",
    "fitted = m2.fit(cov_type='HC1')\n",
    "\n",
    "print(\"F=%f, p=%f, k1=%f\" % m2.fit().compare_f_test(m4.fit()))"
   ]
  },
  {
   "cell_type": "code",
   "execution_count": 54,
   "metadata": {},
   "outputs": [
    {
     "data": {
      "text/html": [
       "<div>\n",
       "<style scoped>\n",
       "    .dataframe tbody tr th:only-of-type {\n",
       "        vertical-align: middle;\n",
       "    }\n",
       "\n",
       "    .dataframe tbody tr th {\n",
       "        vertical-align: top;\n",
       "    }\n",
       "\n",
       "    .dataframe thead th {\n",
       "        text-align: right;\n",
       "    }\n",
       "</style>\n",
       "<table border=\"1\" class=\"dataframe\">\n",
       "  <thead>\n",
       "    <tr style=\"text-align: right;\">\n",
       "      <th></th>\n",
       "      <th>ceb</th>\n",
       "      <th>age</th>\n",
       "      <th>educ</th>\n",
       "      <th>idlnchld</th>\n",
       "      <th>knowmeth</th>\n",
       "      <th>usemeth</th>\n",
       "      <th>agefm</th>\n",
       "      <th>heduc</th>\n",
       "      <th>urban</th>\n",
       "      <th>electric</th>\n",
       "      <th>bicycle</th>\n",
       "      <th>nevermarr</th>\n",
       "      <th>idlnchld_noans</th>\n",
       "      <th>heduc_noans</th>\n",
       "      <th>usemeth_noans</th>\n",
       "    </tr>\n",
       "  </thead>\n",
       "  <tbody>\n",
       "    <tr>\n",
       "      <th>0</th>\n",
       "      <td>0</td>\n",
       "      <td>18</td>\n",
       "      <td>10</td>\n",
       "      <td>4.0</td>\n",
       "      <td>1.0</td>\n",
       "      <td>1.0</td>\n",
       "      <td>0.0</td>\n",
       "      <td>-1.0</td>\n",
       "      <td>1</td>\n",
       "      <td>1.0</td>\n",
       "      <td>1.0</td>\n",
       "      <td>1</td>\n",
       "      <td>0</td>\n",
       "      <td>0</td>\n",
       "      <td>0</td>\n",
       "    </tr>\n",
       "    <tr>\n",
       "      <th>1</th>\n",
       "      <td>2</td>\n",
       "      <td>43</td>\n",
       "      <td>11</td>\n",
       "      <td>2.0</td>\n",
       "      <td>1.0</td>\n",
       "      <td>1.0</td>\n",
       "      <td>20.0</td>\n",
       "      <td>14.0</td>\n",
       "      <td>1</td>\n",
       "      <td>1.0</td>\n",
       "      <td>1.0</td>\n",
       "      <td>0</td>\n",
       "      <td>0</td>\n",
       "      <td>0</td>\n",
       "      <td>0</td>\n",
       "    </tr>\n",
       "    <tr>\n",
       "      <th>2</th>\n",
       "      <td>0</td>\n",
       "      <td>49</td>\n",
       "      <td>4</td>\n",
       "      <td>4.0</td>\n",
       "      <td>1.0</td>\n",
       "      <td>0.0</td>\n",
       "      <td>22.0</td>\n",
       "      <td>1.0</td>\n",
       "      <td>1</td>\n",
       "      <td>1.0</td>\n",
       "      <td>0.0</td>\n",
       "      <td>0</td>\n",
       "      <td>0</td>\n",
       "      <td>0</td>\n",
       "      <td>0</td>\n",
       "    </tr>\n",
       "    <tr>\n",
       "      <th>3</th>\n",
       "      <td>0</td>\n",
       "      <td>24</td>\n",
       "      <td>12</td>\n",
       "      <td>2.0</td>\n",
       "      <td>1.0</td>\n",
       "      <td>0.0</td>\n",
       "      <td>0.0</td>\n",
       "      <td>-1.0</td>\n",
       "      <td>1</td>\n",
       "      <td>1.0</td>\n",
       "      <td>1.0</td>\n",
       "      <td>1</td>\n",
       "      <td>0</td>\n",
       "      <td>0</td>\n",
       "      <td>0</td>\n",
       "    </tr>\n",
       "    <tr>\n",
       "      <th>4</th>\n",
       "      <td>3</td>\n",
       "      <td>32</td>\n",
       "      <td>13</td>\n",
       "      <td>3.0</td>\n",
       "      <td>1.0</td>\n",
       "      <td>1.0</td>\n",
       "      <td>24.0</td>\n",
       "      <td>12.0</td>\n",
       "      <td>1</td>\n",
       "      <td>1.0</td>\n",
       "      <td>1.0</td>\n",
       "      <td>0</td>\n",
       "      <td>0</td>\n",
       "      <td>0</td>\n",
       "      <td>0</td>\n",
       "    </tr>\n",
       "  </tbody>\n",
       "</table>\n",
       "</div>"
      ],
      "text/plain": [
       "   ceb  age  educ  idlnchld  knowmeth  usemeth  agefm  heduc  urban  electric  \\\n",
       "0    0   18    10       4.0       1.0      1.0    0.0   -1.0      1       1.0   \n",
       "1    2   43    11       2.0       1.0      1.0   20.0   14.0      1       1.0   \n",
       "2    0   49     4       4.0       1.0      0.0   22.0    1.0      1       1.0   \n",
       "3    0   24    12       2.0       1.0      0.0    0.0   -1.0      1       1.0   \n",
       "4    3   32    13       3.0       1.0      1.0   24.0   12.0      1       1.0   \n",
       "\n",
       "   bicycle  nevermarr  idlnchld_noans  heduc_noans  usemeth_noans  \n",
       "0      1.0          1               0            0              0  \n",
       "1      1.0          0               0            0              0  \n",
       "2      0.0          0               0            0              0  \n",
       "3      1.0          1               0            0              0  \n",
       "4      1.0          0               0            0              0  "
      ]
     },
     "execution_count": 54,
     "metadata": {},
     "output_type": "execute_result"
    }
   ],
   "source": [
    "data8 = data.drop(columns=['religion', 'radio', 'tv'])\n",
    "data8.head()"
   ]
  },
  {
   "cell_type": "code",
   "execution_count": 55,
   "metadata": {},
   "outputs": [
    {
     "name": "stdout",
     "output_type": "stream",
     "text": [
      "                            OLS Regression Results                            \n",
      "==============================================================================\n",
      "Dep. Variable:                    ceb   R-squared:                       0.638\n",
      "Model:                            OLS   Adj. R-squared:                  0.637\n",
      "Method:                 Least Squares   F-statistic:                     694.3\n",
      "Date:                Tue, 08 Oct 2019   Prob (F-statistic):               0.00\n",
      "Time:                        11:29:12   Log-Likelihood:                -7770.6\n",
      "No. Observations:                4348   AIC:                         1.557e+04\n",
      "Df Residuals:                    4336   BIC:                         1.564e+04\n",
      "Df Model:                          11                                         \n",
      "Covariance Type:            nonrobust                                         \n",
      "==================================================================================\n",
      "                     coef    std err          t      P>|t|      [0.025      0.975]\n",
      "----------------------------------------------------------------------------------\n",
      "Intercept         -1.0350      0.197     -5.265      0.000      -1.420      -0.650\n",
      "age                0.1735      0.003     53.713      0.000       0.167       0.180\n",
      "educ              -0.0772      0.007    -10.916      0.000      -0.091      -0.063\n",
      "idlnchld           0.0580      0.010      5.911      0.000       0.039       0.077\n",
      "knowmeth           0.5801      0.121      4.783      0.000       0.342       0.818\n",
      "usemeth            0.5500      0.044     12.406      0.000       0.463       0.637\n",
      "agefm             -0.0632      0.007     -9.575      0.000      -0.076      -0.050\n",
      "heduc             -0.0404      0.007     -5.410      0.000      -0.055      -0.026\n",
      "urban             -0.2381      0.047     -5.059      0.000      -0.330      -0.146\n",
      "electric          -0.3560      0.070     -5.058      0.000      -0.494      -0.218\n",
      "bicycle            0.2025      0.050      4.078      0.000       0.105       0.300\n",
      "nevermarr         -2.1754      0.146    -14.859      0.000      -2.462      -1.888\n",
      "idlnchld_noans          0          0        nan        nan           0           0\n",
      "heduc_noans             0          0        nan        nan           0           0\n",
      "usemeth_noans           0          0        nan        nan           0           0\n",
      "==============================================================================\n",
      "Omnibus:                      225.915   Durbin-Watson:                   1.882\n",
      "Prob(Omnibus):                  0.000   Jarque-Bera (JB):              869.577\n",
      "Skew:                          -0.005   Prob(JB):                    1.49e-189\n",
      "Kurtosis:                       5.191   Cond. No.                          inf\n",
      "==============================================================================\n",
      "\n",
      "Warnings:\n",
      "[1] Standard Errors assume that the covariance matrix of the errors is correctly specified.\n",
      "[2] The smallest eigenvalue is      0. This might indicate that there are\n",
      "strong multicollinearity problems or that the design matrix is singular.\n"
     ]
    }
   ],
   "source": [
    "q8 = 'ceb ~ '\n",
    "for col in data8.columns.values:\n",
    "    if col != 'ceb':\n",
    "        q8 = q8 + col +' + '\n",
    "q8 = q8[:-3]\n",
    "\n",
    "m8 = smf.ols(q8, \n",
    "             data=data8)\n",
    "fitted8 = m8.fit()\n",
    "print(fitted8.summary())"
   ]
  },
  {
   "cell_type": "markdown",
   "metadata": {},
   "source": [
    "Проверяем гомоскедастичность "
   ]
  },
  {
   "cell_type": "code",
   "execution_count": 56,
   "metadata": {},
   "outputs": [
    {
     "name": "stdout",
     "output_type": "stream",
     "text": [
      "Breusch-Pagan test: p=0.000000\n"
     ]
    },
    {
     "name": "stderr",
     "output_type": "stream",
     "text": [
      "/home/lemikhovalex/anaconda2/lib/python2.7/site-packages/ipykernel_launcher.py:1: DeprecationWarning: `het_breushpagan` is deprecated, use `het_breuschpagan` instead!\n",
      "Use het_breuschpagan, het_breushpagan will be removed in 0.9 \n",
      "(Note: misspelling missing 'c')\n",
      "  \"\"\"Entry point for launching an IPython kernel.\n"
     ]
    }
   ],
   "source": [
    "print('Breusch-Pagan test: p=%f' % sms.het_breushpagan(fitted8.resid, fitted8.model.exog)[1])"
   ]
  },
  {
   "cell_type": "markdown",
   "metadata": {},
   "source": [
    "Делем поправу Уайта"
   ]
  },
  {
   "cell_type": "code",
   "execution_count": 57,
   "metadata": {},
   "outputs": [
    {
     "name": "stdout",
     "output_type": "stream",
     "text": [
      "                            OLS Regression Results                            \n",
      "==============================================================================\n",
      "Dep. Variable:                    ceb   R-squared:                       0.638\n",
      "Model:                            OLS   Adj. R-squared:                  0.637\n",
      "Method:                 Least Squares   F-statistic:                     547.4\n",
      "Date:                Tue, 08 Oct 2019   Prob (F-statistic):               0.00\n",
      "Time:                        11:29:16   Log-Likelihood:                -7770.6\n",
      "No. Observations:                4348   AIC:                         1.557e+04\n",
      "Df Residuals:                    4336   BIC:                         1.564e+04\n",
      "Df Model:                          11                                         \n",
      "Covariance Type:                  HC1                                         \n",
      "==================================================================================\n",
      "                     coef    std err          z      P>|z|      [0.025      0.975]\n",
      "----------------------------------------------------------------------------------\n",
      "Intercept         -1.0350      0.250     -4.147      0.000      -1.524      -0.546\n",
      "age                0.1735      0.004     39.874      0.000       0.165       0.182\n",
      "educ              -0.0772      0.007    -10.897      0.000      -0.091      -0.063\n",
      "idlnchld           0.0580      0.014      4.275      0.000       0.031       0.085\n",
      "knowmeth           0.5801      0.171      3.385      0.001       0.244       0.916\n",
      "usemeth            0.5500      0.047     11.747      0.000       0.458       0.642\n",
      "agefm             -0.0632      0.010     -6.463      0.000      -0.082      -0.044\n",
      "heduc             -0.0404      0.008     -4.802      0.000      -0.057      -0.024\n",
      "urban             -0.2381      0.046     -5.195      0.000      -0.328      -0.148\n",
      "electric          -0.3560      0.065     -5.481      0.000      -0.483      -0.229\n",
      "bicycle            0.2025      0.048      4.181      0.000       0.108       0.297\n",
      "nevermarr         -2.1754      0.201    -10.813      0.000      -2.570      -1.781\n",
      "idlnchld_noans          0          0        nan        nan           0           0\n",
      "heduc_noans             0          0        nan        nan           0           0\n",
      "usemeth_noans           0          0        nan        nan           0           0\n",
      "==============================================================================\n",
      "Omnibus:                      225.915   Durbin-Watson:                   1.882\n",
      "Prob(Omnibus):                  0.000   Jarque-Bera (JB):              869.577\n",
      "Skew:                          -0.005   Prob(JB):                    1.49e-189\n",
      "Kurtosis:                       5.191   Cond. No.                          inf\n",
      "==============================================================================\n",
      "\n",
      "Warnings:\n",
      "[1] Standard Errors are heteroscedasticity robust (HC1)\n",
      "[2] The smallest eigenvalue is      0. This might indicate that there are\n",
      "strong multicollinearity problems or that the design matrix is singular.\n"
     ]
    },
    {
     "name": "stderr",
     "output_type": "stream",
     "text": [
      "/home/lemikhovalex/anaconda2/lib/python2.7/site-packages/statsmodels/base/model.py:1532: ValueWarning: covariance of constraints does not have full rank. The number of constraints is 14, but rank is 11\n",
      "  'rank is %d' % (J, J_), ValueWarning)\n"
     ]
    }
   ],
   "source": [
    "m8 = smf.ols(q8, \n",
    "             data=data8\n",
    "            )\n",
    "fitted8 = m8.fit(cov_type='HC1')\n",
    "print(fitted8.summary())"
   ]
  },
  {
   "cell_type": "markdown",
   "metadata": {},
   "source": [
    "С помощью критерия Фишера проверим, стало ли лучше"
   ]
  },
  {
   "cell_type": "code",
   "execution_count": 58,
   "metadata": {},
   "outputs": [
    {
     "name": "stdout",
     "output_type": "stream",
     "text": [
      "F=1.244235, p=0.285502, k1=5.000000\n"
     ]
    }
   ],
   "source": [
    "print(\"F=%f, p=%f, k1=%f\" % m7.fit().compare_f_test(m8.fit()))"
   ]
  },
  {
   "cell_type": "markdown",
   "metadata": {},
   "source": [
    "## 9 удалим 2 признака"
   ]
  },
  {
   "cell_type": "code",
   "execution_count": null,
   "metadata": {},
   "outputs": [],
   "source": [
    "data9 = data.drop(columns=['religion', 'radio', 'tv', 'usemeth', 'usemeth_noans'])\n",
    "q9 = 'ceb ~ '\n",
    "for col in data9.columns.values:\n",
    "    if col != 'ceb':\n",
    "        q9 = q9 + col +' + '\n",
    "q9 = q9[:-3]\n",
    "\n",
    "m9 = smf.ols(q9, \n",
    "             data=data9)\n",
    "fitted = m9.fit()\n",
    "print(fitted.summary())\n",
    "print('Breusch-Pagan test: p=', sms.het_breushpagan(fitted.resid, fitted.model.exog)[1])"
   ]
  },
  {
   "cell_type": "code",
   "execution_count": null,
   "metadata": {},
   "outputs": [],
   "source": [
    "m9 = smf.ols(q9, \n",
    "             data=data9)\n",
    "fitted = m9.fit(cov_type='HC1')\n",
    "print(m7.fit().compare_f_test(m9.fit())[1])"
   ]
  }
 ],
 "metadata": {
  "kernelspec": {
   "display_name": "Python 2",
   "language": "python",
   "name": "python2"
  },
  "language_info": {
   "codemirror_mode": {
    "name": "ipython",
    "version": 2
   },
   "file_extension": ".py",
   "mimetype": "text/x-python",
   "name": "python",
   "nbconvert_exporter": "python",
   "pygments_lexer": "ipython2",
   "version": "2.7.15"
  }
 },
 "nbformat": 4,
 "nbformat_minor": 2
}
