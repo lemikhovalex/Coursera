{
 "cells": [
  {
   "cell_type": "markdown",
   "metadata": {},
   "source": [
    "1: не надо гомоск и нормальность ошибкок\n",
    "    \n",
    "2:  \n",
    "\n",
    "    1: сильнее варьируется - меньше\n",
    "       \n",
    "    2: больше дисп ошибки - больше дисп признака\n",
    "    \n",
    "    3: чем больше R тем больше\n",
    "    \n",
    "    4: про объём выборки\n",
    "    \n",
    "3: близкая к линейной между столбцами матрицы\n",
    "\n",
    "4: нет, не симметрично\n",
    "\n",
    "5: гомоскедастичность"
   ]
  }
 ],
 "metadata": {
  "kernelspec": {
   "display_name": "Python 3",
   "language": "python",
   "name": "python3"
  },
  "language_info": {
   "codemirror_mode": {
    "name": "ipython",
    "version": 3
   },
   "file_extension": ".py",
   "mimetype": "text/x-python",
   "name": "python",
   "nbconvert_exporter": "python",
   "pygments_lexer": "ipython3",
   "version": "3.7.3"
  }
 },
 "nbformat": 4,
 "nbformat_minor": 2
}
